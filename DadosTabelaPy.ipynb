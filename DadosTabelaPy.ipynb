{
 "cells": [
  {
   "cell_type": "code",
   "execution_count": null,
   "id": "c45fbf89",
   "metadata": {},
   "outputs": [],
   "source": [
    "from selenium import webdriver as opcoesSelenium\n",
    "from selenium.webdriver.common.keys import Keys\n",
    "from selenium.webdriver.common.by import By\n",
    "import pyautogui as tempoEspera \n",
    "\n",
    "#Abre o navegador Google Chrome\n",
    "navegador = opcoesSelenium.Chrome()\n",
    "navegador.get(\"https://rpachallengeocr.azurewebsites.net/\")\n",
    "\n",
    "#Copia XPATH da tabela \n",
    "elementoTabela = navegador.find_element(By.XPATH, '//*[@id=\"tableSandbox\"]')"
   ]
  },
  {
   "cell_type": "code",
   "execution_count": null,
   "id": "d3c9471b",
   "metadata": {},
   "outputs": [],
   "source": []
  }
 ],
 "metadata": {
  "kernelspec": {
   "display_name": "Python 3 (ipykernel)",
   "language": "python",
   "name": "python3"
  },
  "language_info": {
   "codemirror_mode": {
    "name": "ipython",
    "version": 3
   },
   "file_extension": ".py",
   "mimetype": "text/x-python",
   "name": "python",
   "nbconvert_exporter": "python",
   "pygments_lexer": "ipython3",
   "version": "3.9.13"
  }
 },
 "nbformat": 4,
 "nbformat_minor": 5
}
