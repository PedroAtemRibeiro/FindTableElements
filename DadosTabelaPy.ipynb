{
 "cells": [
  {
   "cell_type": "code",
   "execution_count": 16,
   "id": "c45fbf89",
   "metadata": {},
   "outputs": [
    {
     "name": "stdout",
     "output_type": "stream",
     "text": [
      "# ID Due Date Invoice\n",
      "1 75oj0mej2smnoxnqa0je9l 01-03-2023\n",
      "2 gd24azkr1sq6db6u2eo66d 25-03-2023\n",
      "3 vte9fr2ef8i1x4q01n300e 11-01-2023\n",
      "4 16ijja5gbv5vmnk8p8b1pf 22-01-2023\n",
      "# ID Due Date Invoice\n",
      "5 8owvmwk49cgqbfrtjkt5s 22-02-2023\n",
      "6 tstc0gvm65n4xd26y1pj3o 28-01-2023\n",
      "7 yul2gp9iwygcr3o9tpc34t 02-03-2023\n",
      "8 fwg8ekmes4r6055x7221dk 13-01-2023\n",
      "# ID Due Date Invoice\n",
      "9 zaymexovn3najpr4u1auob 12-03-2023\n",
      "10 5qwy65g0o0j5ns06p9k00f 20-12-2022\n",
      "11 weiwdcc1s4sp6rceoqbl8 30-12-2022\n",
      "12 qdffwageu92c4uxokuwts 13-02-2023\n",
      "Pronto!\n"
     ]
    }
   ],
   "source": [
    "from selenium import webdriver as opcoesSelenium\n",
    "from selenium.webdriver.common.keys import Keys\n",
    "from selenium.webdriver.common.by import By\n",
    "import pyautogui as tempoEspera \n",
    "\n",
    "from openpyxl import load_workbook\n",
    "import os\n",
    "\n",
    "#caminho do Arquivo no diretório\n",
    "nome_arquivo_tabela = \"C:\\\\Users\\pedro\\Documents\\Curso RPA\\Dados\\Dados_Tabela.xlsx\"\n",
    "planilhaDadosTabela = load_workbook(nome_arquivo_tabela)\n",
    "\n",
    "sheet_dados = planilhaDadosTabela['Dados']\n",
    "\n",
    "\n",
    "#Abre o navegador Google Chrome\n",
    "navegador = opcoesSelenium.Chrome()\n",
    "navegador.get(\"https://rpachallengeocr.azurewebsites.net/\")\n",
    "\n",
    "linha = 1\n",
    "\n",
    "i = 1\n",
    "\n",
    "while i < 4:\n",
    "    \n",
    "    #Copia XPATH da tabela \n",
    "    elementoTabela = navegador.find_element(By.XPATH, '//*[@id=\"tableSandbox\"]')\n",
    "\n",
    "    linhas = elementoTabela.find_elements(By.TAG_NAME, \"tr\")\n",
    "    colunas = elementoTabela.find_elements(By.TAG_NAME, \"td\")\n",
    "\n",
    "\n",
    "\n",
    "    for linhaAtual in linhas:\n",
    "\n",
    "        print(linhaAtual.text)\n",
    "        linha = linha + 1\n",
    "        linha = len(sheet_dados['A']) +1\n",
    "        \n",
    "        colunaA = \"A\" + str(linha) #A1\n",
    "        colunaB = \"B\" + str(linha) #B1\n",
    "        colunaC = \"C\" + str(linha) #C1\n",
    "        \n",
    "        sheet_dados[colunaA] = linhaAtual.text\n",
    "\n",
    "    i += 1\n",
    "    tempoEspera.sleep(2)\n",
    "    navegador.find_element(By.XPATH, '//*[@id=\"tableSandbox_next\"]').click()\n",
    "    tempoEspera.sleep(2)\n",
    "\n",
    "else:\n",
    "    \n",
    "    print(\"Pronto!\")\n",
    "    \n",
    "planilhaDadosTabela.save(filename=nome_arquivo_tabela)    \n",
    "\n",
    "\n",
    "os.startfile(nome_arquivo_tabela)"
   ]
  },
  {
   "cell_type": "code",
   "execution_count": 7,
   "id": "3c97748d",
   "metadata": {},
   "outputs": [
    {
     "ename": "SyntaxError",
     "evalue": "invalid syntax (497562947.py, line 7)",
     "output_type": "error",
     "traceback": [
      "\u001b[1;36m  File \u001b[1;32m\"C:\\Users\\pedro\\AppData\\Local\\Temp\\ipykernel_4020\\497562947.py\"\u001b[1;36m, line \u001b[1;32m7\u001b[0m\n\u001b[1;33m    while i < 4\u001b[0m\n\u001b[1;37m               ^\u001b[0m\n\u001b[1;31mSyntaxError\u001b[0m\u001b[1;31m:\u001b[0m invalid syntax\n"
     ]
    }
   ],
   "source": []
  },
  {
   "cell_type": "code",
   "execution_count": null,
   "id": "620c3fbb",
   "metadata": {},
   "outputs": [],
   "source": []
  }
 ],
 "metadata": {
  "kernelspec": {
   "display_name": "Python 3 (ipykernel)",
   "language": "python",
   "name": "python3"
  },
  "language_info": {
   "codemirror_mode": {
    "name": "ipython",
    "version": 3
   },
   "file_extension": ".py",
   "mimetype": "text/x-python",
   "name": "python",
   "nbconvert_exporter": "python",
   "pygments_lexer": "ipython3",
   "version": "3.9.13"
  }
 },
 "nbformat": 4,
 "nbformat_minor": 5
}
