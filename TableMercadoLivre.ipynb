{
 "cells": [
  {
   "cell_type": "code",
   "execution_count": 5,
   "id": "b84ec3ae",
   "metadata": {},
   "outputs": [
    {
     "name": "stdout",
     "output_type": "stream",
     "text": [
      "Carteira Para Passaporte Vintage Rfid Unissex - R$63,80\n",
      "Carteira Masculina Porta Cartão, Cnh, Dinheiro Slim Promoção - R$63,90\n",
      "Carteira Mágica Porta Cartão Couro Legítimo Cnh Cédulas - R$63,90\n",
      "Carteira Porta Cartão Masculina Couro Legitimo - R$63,90\n",
      "Carteira Masculina Slim Pequena Luxo Couro Legítimo Natural - R$63,90\n",
      "Carteira Porta Documento Slim Couro Legítimo Natural Cabe Rg - R$63,90\n",
      "Carteira Masculina Couro Legítimo Com Antifurto Promoção - R$63,48\n",
      "Carteira Do Futuro Rfid Porta Cartões De Couro Antifurto - R$63,39\n",
      "Carteira Masculina 100% Couro Bovino Modelo L S/plástico - R$63,90\n",
      "Carteira Para Passaporte Vintage Rfid Unissex - R$63,80\n",
      "Carteira Jeep Kavis Original 100% Couro Rfid Porta Cartões - R$63,90\n",
      "Carteira Masculina Mágica Porta Cartão Rfid Antifurto Pop Up - R$63,47\n",
      "Carteira Pequena Cnh/cédulas/cartões Mini Couro Legítimo - R$63,90\n",
      "Carteira Masculina Couro Legítimo Premium Extra Macio Ref957 - R$63,99\n",
      "Carteira Porta Cartão Para Cnh,cédulas,cartões Couro Bovino - R$63,90\n",
      "Carteira Masculina Viena Em Couro Legítimo Slim Porta Cartão - R$63,33\n",
      "Carteira Slim Protect Rfid Antifurto Porta Cartões Do Futuro - R$63,47\n",
      "Carteira Porta Cartoes Automatica Couro Antifurto Pop Up - R$63,90\n",
      "Carteira Masculina Grande Couro Legítimo Super Promoção Dm25 - R$63,90\n",
      "Carteira Masculina Vertical Com Zíper + Porta Moedas 3 Cores - R$63,90\n",
      "Promoção Carteira Porta Cartão, Cnh,dinheiro Slim Com Visor - R$63,90\n",
      "Carteira Slim Com Imã Protect Rfid Antifurto Porta Cartões - R$63,80\n",
      "Carteira Masculina 100% Couro Bolso Frontal Slim Compacta - R$63,90\n",
      "Carteira Porta Cartão/cnh Vertical Couro Legítimo Natural - R$63,90\n",
      "Carteira Pequena Cnh/cédulas/cartões Mini Couro Legitimo - R$63,01\n",
      "Porta Documentos Slim Crlv/rg/cartões/cédulas Couro Legítimo - R$63,90\n",
      "Carteira Masculina Couro Legitimo Premium Super Macia Fecho - R$63,99\n",
      "Carteira Masculina Slim Porta Doc. Rg Couro Legitimo - R$63,90\n",
      "Carteira Masculina Willian Polo 100% Original Promoção - R$63,42\n",
      "Carteira Portacartões Antifurto Bloqueio Rfid Discreta Slim. - R$63,49\n",
      "Carteira Masculina Couro Legítimo Completa Com Fecho Botão - R$63,99\n",
      "Carteira Masculina Grande Ziper Com Porta Moedas Documentos - R$63,90\n",
      "Porta Cartão Mini Carteira Em Couro Legítimo Super Promoção - R$63,90\n",
      "Carteira Masculina De Couro Legítimo Zíper Grande Completa - R$63,80\n",
      "Carteira Porta Cartão Masculina Couro Legítimo Fina Pequena - R$63,90\n",
      "Carteira Pequena Slim Masculina Em Couro Porta Cartão,cnh - R$63,90\n"
     ]
    },
    {
     "ename": "NoSuchElementException",
     "evalue": "Message: no such element: Unable to locate element: {\"method\":\"css selector\",\"selector\":\".price-tag-cents\"}\n  (Session info: chrome=109.0.5414.120)\nStacktrace:\nBacktrace:\n\t(No symbol) [0x00466643]\n\t(No symbol) [0x003FBE21]\n\t(No symbol) [0x002FDA9D]\n\t(No symbol) [0x00331342]\n\t(No symbol) [0x0033147B]\n\t(No symbol) [0x003264C1]\n\t(No symbol) [0x0034FDC4]\n\t(No symbol) [0x0032641F]\n\t(No symbol) [0x003500D4]\n\t(No symbol) [0x00366B09]\n\t(No symbol) [0x0034FB76]\n\t(No symbol) [0x003249C1]\n\t(No symbol) [0x00325E5D]\n\tGetHandleVerifier [0x006DA142+2497106]\n\tGetHandleVerifier [0x007085D3+2686691]\n\tGetHandleVerifier [0x0070BB9C+2700460]\n\tGetHandleVerifier [0x00513B10+635936]\n\t(No symbol) [0x00404A1F]\n\t(No symbol) [0x0040A418]\n\t(No symbol) [0x0040A505]\n\t(No symbol) [0x0041508B]\n\tBaseThreadInitThunk [0x76D300F9+25]\n\tRtlGetAppContainerNamedObjectPath [0x77DB7BBE+286]\n\tRtlGetAppContainerNamedObjectPath [0x77DB7B8E+238]\n",
     "output_type": "error",
     "traceback": [
      "\u001b[1;31m---------------------------------------------------------------------------\u001b[0m",
      "\u001b[1;31mNoSuchElementException\u001b[0m                    Traceback (most recent call last)",
      "\u001b[1;32m~\\AppData\\Local\\Temp\\ipykernel_13048\\2023875002.py\u001b[0m in \u001b[0;36m<module>\u001b[1;34m\u001b[0m\n\u001b[0;32m     27\u001b[0m         \u001b[0mprecoProdutoCifrao\u001b[0m \u001b[1;33m=\u001b[0m  \u001b[0minformacoes\u001b[0m\u001b[1;33m.\u001b[0m\u001b[0mfind_element\u001b[0m\u001b[1;33m(\u001b[0m\u001b[0mBy\u001b[0m\u001b[1;33m.\u001b[0m\u001b[0mCLASS_NAME\u001b[0m\u001b[1;33m,\u001b[0m \u001b[1;34m\"price-tag-symbol\"\u001b[0m\u001b[1;33m)\u001b[0m\u001b[1;33m.\u001b[0m\u001b[0mtext\u001b[0m\u001b[1;33m\u001b[0m\u001b[1;33m\u001b[0m\u001b[0m\n\u001b[0;32m     28\u001b[0m         \u001b[0mprecoProdutoInt\u001b[0m \u001b[1;33m=\u001b[0m \u001b[0minformacoes\u001b[0m\u001b[1;33m.\u001b[0m\u001b[0mfind_element\u001b[0m\u001b[1;33m(\u001b[0m\u001b[0mBy\u001b[0m\u001b[1;33m.\u001b[0m\u001b[0mCLASS_NAME\u001b[0m\u001b[1;33m,\u001b[0m \u001b[1;34m\"price-tag-fraction\"\u001b[0m\u001b[1;33m)\u001b[0m\u001b[1;33m.\u001b[0m\u001b[0mtext\u001b[0m\u001b[1;33m\u001b[0m\u001b[1;33m\u001b[0m\u001b[0m\n\u001b[1;32m---> 29\u001b[1;33m         \u001b[0mprecoProdutoFrac\u001b[0m \u001b[1;33m=\u001b[0m  \u001b[0minformacoes\u001b[0m\u001b[1;33m.\u001b[0m\u001b[0mfind_element\u001b[0m\u001b[1;33m(\u001b[0m\u001b[0mBy\u001b[0m\u001b[1;33m.\u001b[0m\u001b[0mCLASS_NAME\u001b[0m\u001b[1;33m,\u001b[0m \u001b[1;34m\"price-tag-cents\"\u001b[0m\u001b[1;33m)\u001b[0m\u001b[1;33m.\u001b[0m\u001b[0mtext\u001b[0m\u001b[1;33m\u001b[0m\u001b[1;33m\u001b[0m\u001b[0m\n\u001b[0m\u001b[0;32m     30\u001b[0m \u001b[1;33m\u001b[0m\u001b[0m\n\u001b[0;32m     31\u001b[0m         \u001b[0mprint\u001b[0m\u001b[1;33m(\u001b[0m\u001b[0mnomeProduto\u001b[0m \u001b[1;33m+\u001b[0m \u001b[1;34m\" - \"\u001b[0m\u001b[1;33m+\u001b[0m \u001b[0mprecoProdutoCifrao\u001b[0m \u001b[1;33m+\u001b[0m \u001b[0mprecoProduto\u001b[0m \u001b[1;33m+\u001b[0m \u001b[1;34m\",\"\u001b[0m \u001b[1;33m+\u001b[0m \u001b[0mprecoProdutoFrac\u001b[0m\u001b[1;33m)\u001b[0m\u001b[1;33m\u001b[0m\u001b[1;33m\u001b[0m\u001b[0m\n",
      "\u001b[1;32m~\\anaconda3\\lib\\site-packages\\selenium\\webdriver\\remote\\webelement.py\u001b[0m in \u001b[0;36mfind_element\u001b[1;34m(self, by, value)\u001b[0m\n\u001b[0;32m    423\u001b[0m             \u001b[0mvalue\u001b[0m \u001b[1;33m=\u001b[0m \u001b[1;34mf'[name=\"{value}\"]'\u001b[0m\u001b[1;33m\u001b[0m\u001b[1;33m\u001b[0m\u001b[0m\n\u001b[0;32m    424\u001b[0m \u001b[1;33m\u001b[0m\u001b[0m\n\u001b[1;32m--> 425\u001b[1;33m         \u001b[1;32mreturn\u001b[0m \u001b[0mself\u001b[0m\u001b[1;33m.\u001b[0m\u001b[0m_execute\u001b[0m\u001b[1;33m(\u001b[0m\u001b[0mCommand\u001b[0m\u001b[1;33m.\u001b[0m\u001b[0mFIND_CHILD_ELEMENT\u001b[0m\u001b[1;33m,\u001b[0m \u001b[1;33m{\u001b[0m\u001b[1;34m\"using\"\u001b[0m\u001b[1;33m:\u001b[0m \u001b[0mby\u001b[0m\u001b[1;33m,\u001b[0m \u001b[1;34m\"value\"\u001b[0m\u001b[1;33m:\u001b[0m \u001b[0mvalue\u001b[0m\u001b[1;33m}\u001b[0m\u001b[1;33m)\u001b[0m\u001b[1;33m[\u001b[0m\u001b[1;34m\"value\"\u001b[0m\u001b[1;33m]\u001b[0m\u001b[1;33m\u001b[0m\u001b[1;33m\u001b[0m\u001b[0m\n\u001b[0m\u001b[0;32m    426\u001b[0m \u001b[1;33m\u001b[0m\u001b[0m\n\u001b[0;32m    427\u001b[0m     \u001b[1;32mdef\u001b[0m \u001b[0mfind_elements\u001b[0m\u001b[1;33m(\u001b[0m\u001b[0mself\u001b[0m\u001b[1;33m,\u001b[0m \u001b[0mby\u001b[0m\u001b[1;33m=\u001b[0m\u001b[0mBy\u001b[0m\u001b[1;33m.\u001b[0m\u001b[0mID\u001b[0m\u001b[1;33m,\u001b[0m \u001b[0mvalue\u001b[0m\u001b[1;33m=\u001b[0m\u001b[1;32mNone\u001b[0m\u001b[1;33m)\u001b[0m \u001b[1;33m->\u001b[0m \u001b[0mlist\u001b[0m\u001b[1;33m[\u001b[0m\u001b[0mWebElement\u001b[0m\u001b[1;33m]\u001b[0m\u001b[1;33m:\u001b[0m\u001b[1;33m\u001b[0m\u001b[1;33m\u001b[0m\u001b[0m\n",
      "\u001b[1;32m~\\anaconda3\\lib\\site-packages\\selenium\\webdriver\\remote\\webelement.py\u001b[0m in \u001b[0;36m_execute\u001b[1;34m(self, command, params)\u001b[0m\n\u001b[0;32m    401\u001b[0m             \u001b[0mparams\u001b[0m \u001b[1;33m=\u001b[0m \u001b[1;33m{\u001b[0m\u001b[1;33m}\u001b[0m\u001b[1;33m\u001b[0m\u001b[1;33m\u001b[0m\u001b[0m\n\u001b[0;32m    402\u001b[0m         \u001b[0mparams\u001b[0m\u001b[1;33m[\u001b[0m\u001b[1;34m\"id\"\u001b[0m\u001b[1;33m]\u001b[0m \u001b[1;33m=\u001b[0m \u001b[0mself\u001b[0m\u001b[1;33m.\u001b[0m\u001b[0m_id\u001b[0m\u001b[1;33m\u001b[0m\u001b[1;33m\u001b[0m\u001b[0m\n\u001b[1;32m--> 403\u001b[1;33m         \u001b[1;32mreturn\u001b[0m \u001b[0mself\u001b[0m\u001b[1;33m.\u001b[0m\u001b[0m_parent\u001b[0m\u001b[1;33m.\u001b[0m\u001b[0mexecute\u001b[0m\u001b[1;33m(\u001b[0m\u001b[0mcommand\u001b[0m\u001b[1;33m,\u001b[0m \u001b[0mparams\u001b[0m\u001b[1;33m)\u001b[0m\u001b[1;33m\u001b[0m\u001b[1;33m\u001b[0m\u001b[0m\n\u001b[0m\u001b[0;32m    404\u001b[0m \u001b[1;33m\u001b[0m\u001b[0m\n\u001b[0;32m    405\u001b[0m     \u001b[1;32mdef\u001b[0m \u001b[0mfind_element\u001b[0m\u001b[1;33m(\u001b[0m\u001b[0mself\u001b[0m\u001b[1;33m,\u001b[0m \u001b[0mby\u001b[0m\u001b[1;33m=\u001b[0m\u001b[0mBy\u001b[0m\u001b[1;33m.\u001b[0m\u001b[0mID\u001b[0m\u001b[1;33m,\u001b[0m \u001b[0mvalue\u001b[0m\u001b[1;33m=\u001b[0m\u001b[1;32mNone\u001b[0m\u001b[1;33m)\u001b[0m \u001b[1;33m->\u001b[0m \u001b[0mWebElement\u001b[0m\u001b[1;33m:\u001b[0m\u001b[1;33m\u001b[0m\u001b[1;33m\u001b[0m\u001b[0m\n",
      "\u001b[1;32m~\\anaconda3\\lib\\site-packages\\selenium\\webdriver\\remote\\webdriver.py\u001b[0m in \u001b[0;36mexecute\u001b[1;34m(self, driver_command, params)\u001b[0m\n\u001b[0;32m    438\u001b[0m         \u001b[0mresponse\u001b[0m \u001b[1;33m=\u001b[0m \u001b[0mself\u001b[0m\u001b[1;33m.\u001b[0m\u001b[0mcommand_executor\u001b[0m\u001b[1;33m.\u001b[0m\u001b[0mexecute\u001b[0m\u001b[1;33m(\u001b[0m\u001b[0mdriver_command\u001b[0m\u001b[1;33m,\u001b[0m \u001b[0mparams\u001b[0m\u001b[1;33m)\u001b[0m\u001b[1;33m\u001b[0m\u001b[1;33m\u001b[0m\u001b[0m\n\u001b[0;32m    439\u001b[0m         \u001b[1;32mif\u001b[0m \u001b[0mresponse\u001b[0m\u001b[1;33m:\u001b[0m\u001b[1;33m\u001b[0m\u001b[1;33m\u001b[0m\u001b[0m\n\u001b[1;32m--> 440\u001b[1;33m             \u001b[0mself\u001b[0m\u001b[1;33m.\u001b[0m\u001b[0merror_handler\u001b[0m\u001b[1;33m.\u001b[0m\u001b[0mcheck_response\u001b[0m\u001b[1;33m(\u001b[0m\u001b[0mresponse\u001b[0m\u001b[1;33m)\u001b[0m\u001b[1;33m\u001b[0m\u001b[1;33m\u001b[0m\u001b[0m\n\u001b[0m\u001b[0;32m    441\u001b[0m             \u001b[0mresponse\u001b[0m\u001b[1;33m[\u001b[0m\u001b[1;34m\"value\"\u001b[0m\u001b[1;33m]\u001b[0m \u001b[1;33m=\u001b[0m \u001b[0mself\u001b[0m\u001b[1;33m.\u001b[0m\u001b[0m_unwrap_value\u001b[0m\u001b[1;33m(\u001b[0m\u001b[0mresponse\u001b[0m\u001b[1;33m.\u001b[0m\u001b[0mget\u001b[0m\u001b[1;33m(\u001b[0m\u001b[1;34m\"value\"\u001b[0m\u001b[1;33m,\u001b[0m \u001b[1;32mNone\u001b[0m\u001b[1;33m)\u001b[0m\u001b[1;33m)\u001b[0m\u001b[1;33m\u001b[0m\u001b[1;33m\u001b[0m\u001b[0m\n\u001b[0;32m    442\u001b[0m             \u001b[1;32mreturn\u001b[0m \u001b[0mresponse\u001b[0m\u001b[1;33m\u001b[0m\u001b[1;33m\u001b[0m\u001b[0m\n",
      "\u001b[1;32m~\\anaconda3\\lib\\site-packages\\selenium\\webdriver\\remote\\errorhandler.py\u001b[0m in \u001b[0;36mcheck_response\u001b[1;34m(self, response)\u001b[0m\n\u001b[0;32m    243\u001b[0m                 \u001b[0malert_text\u001b[0m \u001b[1;33m=\u001b[0m \u001b[0mvalue\u001b[0m\u001b[1;33m[\u001b[0m\u001b[1;34m\"alert\"\u001b[0m\u001b[1;33m]\u001b[0m\u001b[1;33m.\u001b[0m\u001b[0mget\u001b[0m\u001b[1;33m(\u001b[0m\u001b[1;34m\"text\"\u001b[0m\u001b[1;33m)\u001b[0m\u001b[1;33m\u001b[0m\u001b[1;33m\u001b[0m\u001b[0m\n\u001b[0;32m    244\u001b[0m             \u001b[1;32mraise\u001b[0m \u001b[0mexception_class\u001b[0m\u001b[1;33m(\u001b[0m\u001b[0mmessage\u001b[0m\u001b[1;33m,\u001b[0m \u001b[0mscreen\u001b[0m\u001b[1;33m,\u001b[0m \u001b[0mstacktrace\u001b[0m\u001b[1;33m,\u001b[0m \u001b[0malert_text\u001b[0m\u001b[1;33m)\u001b[0m  \u001b[1;31m# type: ignore[call-arg]  # mypy is not smart enough here\u001b[0m\u001b[1;33m\u001b[0m\u001b[1;33m\u001b[0m\u001b[0m\n\u001b[1;32m--> 245\u001b[1;33m         \u001b[1;32mraise\u001b[0m \u001b[0mexception_class\u001b[0m\u001b[1;33m(\u001b[0m\u001b[0mmessage\u001b[0m\u001b[1;33m,\u001b[0m \u001b[0mscreen\u001b[0m\u001b[1;33m,\u001b[0m \u001b[0mstacktrace\u001b[0m\u001b[1;33m)\u001b[0m\u001b[1;33m\u001b[0m\u001b[1;33m\u001b[0m\u001b[0m\n\u001b[0m",
      "\u001b[1;31mNoSuchElementException\u001b[0m: Message: no such element: Unable to locate element: {\"method\":\"css selector\",\"selector\":\".price-tag-cents\"}\n  (Session info: chrome=109.0.5414.120)\nStacktrace:\nBacktrace:\n\t(No symbol) [0x00466643]\n\t(No symbol) [0x003FBE21]\n\t(No symbol) [0x002FDA9D]\n\t(No symbol) [0x00331342]\n\t(No symbol) [0x0033147B]\n\t(No symbol) [0x003264C1]\n\t(No symbol) [0x0034FDC4]\n\t(No symbol) [0x0032641F]\n\t(No symbol) [0x003500D4]\n\t(No symbol) [0x00366B09]\n\t(No symbol) [0x0034FB76]\n\t(No symbol) [0x003249C1]\n\t(No symbol) [0x00325E5D]\n\tGetHandleVerifier [0x006DA142+2497106]\n\tGetHandleVerifier [0x007085D3+2686691]\n\tGetHandleVerifier [0x0070BB9C+2700460]\n\tGetHandleVerifier [0x00513B10+635936]\n\t(No symbol) [0x00404A1F]\n\t(No symbol) [0x0040A418]\n\t(No symbol) [0x0040A505]\n\t(No symbol) [0x0041508B]\n\tBaseThreadInitThunk [0x76D300F9+25]\n\tRtlGetAppContainerNamedObjectPath [0x77DB7BBE+286]\n\tRtlGetAppContainerNamedObjectPath [0x77DB7B8E+238]\n"
     ]
    }
   ],
   "source": [
    "from selenium import webdriver as opcoesSelenium\n",
    "from selenium.webdriver.common.keys import Keys\n",
    "from selenium.webdriver.common.by import By\n",
    "import pyautogui as tempoEspera \n",
    "\n",
    "\n",
    "#Abre o navegador Google Chrome\n",
    "navegador = opcoesSelenium.Chrome()\n",
    "navegador.get(\"https://www.mercadolivre.com.br/\")\n",
    "\n",
    "\n",
    "    #Copia XPATH da tabela \n",
    "navegador.find_element(By.NAME, \"as_word\").send_keys(\"Carteira\")\n",
    "\n",
    "tempoEspera.sleep(2)\n",
    "\n",
    "navegador.find_element(By.XPATH, \"/html/body/header/div/form/button\").click()\n",
    "\n",
    "tempoEspera.sleep(2)\n",
    "\n",
    "dadosProduto = navegador.find_elements(By.CLASS_NAME, \"ui-search-layout__item\")\n",
    "\n",
    "\n",
    "linha = 2\n",
    "for informacoes in dadosProduto:\n",
    "        nomeProduto = informacoes.find_element(By.CLASS_NAME, \"ui-search-item__title\").text\n",
    "        precoProdutoCifrao =  informacoes.find_element(By.CLASS_NAME, \"price-tag-symbol\").text\n",
    "        precoProdutoInt = informacoes.find_element(By.CLASS_NAME, \"price-tag-fraction\").text\n",
    "        precoProdutoFrac =  informacoes.find_element(By.CLASS_NAME, \"price-tag-cents\").text\n",
    "        \n",
    "        print(nomeProduto + \" - \"+ precoProdutoCifrao + precoProduto + \",\" + precoProdutoFrac)\n"
   ]
  },
  {
   "cell_type": "code",
   "execution_count": null,
   "id": "da27d0d9",
   "metadata": {},
   "outputs": [],
   "source": []
  }
 ],
 "metadata": {
  "kernelspec": {
   "display_name": "Python 3 (ipykernel)",
   "language": "python",
   "name": "python3"
  },
  "language_info": {
   "codemirror_mode": {
    "name": "ipython",
    "version": 3
   },
   "file_extension": ".py",
   "mimetype": "text/x-python",
   "name": "python",
   "nbconvert_exporter": "python",
   "pygments_lexer": "ipython3",
   "version": "3.9.13"
  }
 },
 "nbformat": 4,
 "nbformat_minor": 5
}
