{
 "cells": [
  {
   "cell_type": "code",
   "execution_count": null,
   "id": "906b4ff3",
   "metadata": {},
   "outputs": [],
   "source": []
  },
  {
   "cell_type": "code",
   "execution_count": 7,
   "id": "c45fbf89",
   "metadata": {},
   "outputs": [
    {
     "ename": "NoSuchElementException",
     "evalue": "Message: no such element: Unable to locate element: {\"method\":\"xpath\",\"selector\":\"//*[@id=\"tabid_0_content_div\"]/table\"}\n  (Session info: chrome=109.0.5414.120)\nStacktrace:\nBacktrace:\n\t(No symbol) [0x00466643]\n\t(No symbol) [0x003FBE21]\n\t(No symbol) [0x002FDA9D]\n\t(No symbol) [0x00331342]\n\t(No symbol) [0x0033147B]\n\t(No symbol) [0x00368DC2]\n\t(No symbol) [0x0034FDC4]\n\t(No symbol) [0x00366B09]\n\t(No symbol) [0x0034FB76]\n\t(No symbol) [0x003249C1]\n\t(No symbol) [0x00325E5D]\n\tGetHandleVerifier [0x006DA142+2497106]\n\tGetHandleVerifier [0x007085D3+2686691]\n\tGetHandleVerifier [0x0070BB9C+2700460]\n\tGetHandleVerifier [0x00513B10+635936]\n\t(No symbol) [0x00404A1F]\n\t(No symbol) [0x0040A418]\n\t(No symbol) [0x0040A505]\n\t(No symbol) [0x0041508B]\n\tBaseThreadInitThunk [0x76D300F9+25]\n\tRtlGetAppContainerNamedObjectPath [0x77DB7BBE+286]\n\tRtlGetAppContainerNamedObjectPath [0x77DB7B8E+238]\n",
     "output_type": "error",
     "traceback": [
      "\u001b[1;31m---------------------------------------------------------------------------\u001b[0m",
      "\u001b[1;31mNoSuchElementException\u001b[0m                    Traceback (most recent call last)",
      "\u001b[1;32m~\\AppData\\Local\\Temp\\ipykernel_6388\\727839439.py\u001b[0m in \u001b[0;36m<module>\u001b[1;34m\u001b[0m\n\u001b[0;32m     24\u001b[0m \u001b[1;33m\u001b[0m\u001b[0m\n\u001b[0;32m     25\u001b[0m     \u001b[1;31m#Copia XPATH da tabela\u001b[0m\u001b[1;33m\u001b[0m\u001b[1;33m\u001b[0m\u001b[0m\n\u001b[1;32m---> 26\u001b[1;33m \u001b[0melementoTabela\u001b[0m \u001b[1;33m=\u001b[0m \u001b[0mnavegador\u001b[0m\u001b[1;33m.\u001b[0m\u001b[0mfind_element\u001b[0m\u001b[1;33m(\u001b[0m\u001b[0mBy\u001b[0m\u001b[1;33m.\u001b[0m\u001b[0mXPATH\u001b[0m\u001b[1;33m,\u001b[0m \u001b[1;34m'//*[@id=\"tabid_0_content_div\"]/table'\u001b[0m\u001b[1;33m)\u001b[0m\u001b[1;33m\u001b[0m\u001b[1;33m\u001b[0m\u001b[0m\n\u001b[0m\u001b[0;32m     27\u001b[0m \u001b[1;33m\u001b[0m\u001b[0m\n\u001b[0;32m     28\u001b[0m \u001b[0mlinhas\u001b[0m \u001b[1;33m=\u001b[0m \u001b[0melementoTabela\u001b[0m\u001b[1;33m.\u001b[0m\u001b[0mfind_elements\u001b[0m\u001b[1;33m(\u001b[0m\u001b[0mBy\u001b[0m\u001b[1;33m.\u001b[0m\u001b[0mTAG_NAME\u001b[0m\u001b[1;33m,\u001b[0m \u001b[1;34m\"tr\"\u001b[0m\u001b[1;33m)\u001b[0m\u001b[1;33m\u001b[0m\u001b[1;33m\u001b[0m\u001b[0m\n",
      "\u001b[1;32m~\\anaconda3\\lib\\site-packages\\selenium\\webdriver\\remote\\webdriver.py\u001b[0m in \u001b[0;36mfind_element\u001b[1;34m(self, by, value)\u001b[0m\n\u001b[0;32m    828\u001b[0m             \u001b[0mvalue\u001b[0m \u001b[1;33m=\u001b[0m \u001b[1;34mf'[name=\"{value}\"]'\u001b[0m\u001b[1;33m\u001b[0m\u001b[1;33m\u001b[0m\u001b[0m\n\u001b[0;32m    829\u001b[0m \u001b[1;33m\u001b[0m\u001b[0m\n\u001b[1;32m--> 830\u001b[1;33m         \u001b[1;32mreturn\u001b[0m \u001b[0mself\u001b[0m\u001b[1;33m.\u001b[0m\u001b[0mexecute\u001b[0m\u001b[1;33m(\u001b[0m\u001b[0mCommand\u001b[0m\u001b[1;33m.\u001b[0m\u001b[0mFIND_ELEMENT\u001b[0m\u001b[1;33m,\u001b[0m \u001b[1;33m{\u001b[0m\u001b[1;34m\"using\"\u001b[0m\u001b[1;33m:\u001b[0m \u001b[0mby\u001b[0m\u001b[1;33m,\u001b[0m \u001b[1;34m\"value\"\u001b[0m\u001b[1;33m:\u001b[0m \u001b[0mvalue\u001b[0m\u001b[1;33m}\u001b[0m\u001b[1;33m)\u001b[0m\u001b[1;33m[\u001b[0m\u001b[1;34m\"value\"\u001b[0m\u001b[1;33m]\u001b[0m\u001b[1;33m\u001b[0m\u001b[1;33m\u001b[0m\u001b[0m\n\u001b[0m\u001b[0;32m    831\u001b[0m \u001b[1;33m\u001b[0m\u001b[0m\n\u001b[0;32m    832\u001b[0m     \u001b[1;32mdef\u001b[0m \u001b[0mfind_elements\u001b[0m\u001b[1;33m(\u001b[0m\u001b[0mself\u001b[0m\u001b[1;33m,\u001b[0m \u001b[0mby\u001b[0m\u001b[1;33m=\u001b[0m\u001b[0mBy\u001b[0m\u001b[1;33m.\u001b[0m\u001b[0mID\u001b[0m\u001b[1;33m,\u001b[0m \u001b[0mvalue\u001b[0m\u001b[1;33m:\u001b[0m \u001b[0mOptional\u001b[0m\u001b[1;33m[\u001b[0m\u001b[0mstr\u001b[0m\u001b[1;33m]\u001b[0m \u001b[1;33m=\u001b[0m \u001b[1;32mNone\u001b[0m\u001b[1;33m)\u001b[0m \u001b[1;33m->\u001b[0m \u001b[0mList\u001b[0m\u001b[1;33m[\u001b[0m\u001b[0mWebElement\u001b[0m\u001b[1;33m]\u001b[0m\u001b[1;33m:\u001b[0m\u001b[1;33m\u001b[0m\u001b[1;33m\u001b[0m\u001b[0m\n",
      "\u001b[1;32m~\\anaconda3\\lib\\site-packages\\selenium\\webdriver\\remote\\webdriver.py\u001b[0m in \u001b[0;36mexecute\u001b[1;34m(self, driver_command, params)\u001b[0m\n\u001b[0;32m    438\u001b[0m         \u001b[0mresponse\u001b[0m \u001b[1;33m=\u001b[0m \u001b[0mself\u001b[0m\u001b[1;33m.\u001b[0m\u001b[0mcommand_executor\u001b[0m\u001b[1;33m.\u001b[0m\u001b[0mexecute\u001b[0m\u001b[1;33m(\u001b[0m\u001b[0mdriver_command\u001b[0m\u001b[1;33m,\u001b[0m \u001b[0mparams\u001b[0m\u001b[1;33m)\u001b[0m\u001b[1;33m\u001b[0m\u001b[1;33m\u001b[0m\u001b[0m\n\u001b[0;32m    439\u001b[0m         \u001b[1;32mif\u001b[0m \u001b[0mresponse\u001b[0m\u001b[1;33m:\u001b[0m\u001b[1;33m\u001b[0m\u001b[1;33m\u001b[0m\u001b[0m\n\u001b[1;32m--> 440\u001b[1;33m             \u001b[0mself\u001b[0m\u001b[1;33m.\u001b[0m\u001b[0merror_handler\u001b[0m\u001b[1;33m.\u001b[0m\u001b[0mcheck_response\u001b[0m\u001b[1;33m(\u001b[0m\u001b[0mresponse\u001b[0m\u001b[1;33m)\u001b[0m\u001b[1;33m\u001b[0m\u001b[1;33m\u001b[0m\u001b[0m\n\u001b[0m\u001b[0;32m    441\u001b[0m             \u001b[0mresponse\u001b[0m\u001b[1;33m[\u001b[0m\u001b[1;34m\"value\"\u001b[0m\u001b[1;33m]\u001b[0m \u001b[1;33m=\u001b[0m \u001b[0mself\u001b[0m\u001b[1;33m.\u001b[0m\u001b[0m_unwrap_value\u001b[0m\u001b[1;33m(\u001b[0m\u001b[0mresponse\u001b[0m\u001b[1;33m.\u001b[0m\u001b[0mget\u001b[0m\u001b[1;33m(\u001b[0m\u001b[1;34m\"value\"\u001b[0m\u001b[1;33m,\u001b[0m \u001b[1;32mNone\u001b[0m\u001b[1;33m)\u001b[0m\u001b[1;33m)\u001b[0m\u001b[1;33m\u001b[0m\u001b[1;33m\u001b[0m\u001b[0m\n\u001b[0;32m    442\u001b[0m             \u001b[1;32mreturn\u001b[0m \u001b[0mresponse\u001b[0m\u001b[1;33m\u001b[0m\u001b[1;33m\u001b[0m\u001b[0m\n",
      "\u001b[1;32m~\\anaconda3\\lib\\site-packages\\selenium\\webdriver\\remote\\errorhandler.py\u001b[0m in \u001b[0;36mcheck_response\u001b[1;34m(self, response)\u001b[0m\n\u001b[0;32m    243\u001b[0m                 \u001b[0malert_text\u001b[0m \u001b[1;33m=\u001b[0m \u001b[0mvalue\u001b[0m\u001b[1;33m[\u001b[0m\u001b[1;34m\"alert\"\u001b[0m\u001b[1;33m]\u001b[0m\u001b[1;33m.\u001b[0m\u001b[0mget\u001b[0m\u001b[1;33m(\u001b[0m\u001b[1;34m\"text\"\u001b[0m\u001b[1;33m)\u001b[0m\u001b[1;33m\u001b[0m\u001b[1;33m\u001b[0m\u001b[0m\n\u001b[0;32m    244\u001b[0m             \u001b[1;32mraise\u001b[0m \u001b[0mexception_class\u001b[0m\u001b[1;33m(\u001b[0m\u001b[0mmessage\u001b[0m\u001b[1;33m,\u001b[0m \u001b[0mscreen\u001b[0m\u001b[1;33m,\u001b[0m \u001b[0mstacktrace\u001b[0m\u001b[1;33m,\u001b[0m \u001b[0malert_text\u001b[0m\u001b[1;33m)\u001b[0m  \u001b[1;31m# type: ignore[call-arg]  # mypy is not smart enough here\u001b[0m\u001b[1;33m\u001b[0m\u001b[1;33m\u001b[0m\u001b[0m\n\u001b[1;32m--> 245\u001b[1;33m         \u001b[1;32mraise\u001b[0m \u001b[0mexception_class\u001b[0m\u001b[1;33m(\u001b[0m\u001b[0mmessage\u001b[0m\u001b[1;33m,\u001b[0m \u001b[0mscreen\u001b[0m\u001b[1;33m,\u001b[0m \u001b[0mstacktrace\u001b[0m\u001b[1;33m)\u001b[0m\u001b[1;33m\u001b[0m\u001b[1;33m\u001b[0m\u001b[0m\n\u001b[0m",
      "\u001b[1;31mNoSuchElementException\u001b[0m: Message: no such element: Unable to locate element: {\"method\":\"xpath\",\"selector\":\"//*[@id=\"tabid_0_content_div\"]/table\"}\n  (Session info: chrome=109.0.5414.120)\nStacktrace:\nBacktrace:\n\t(No symbol) [0x00466643]\n\t(No symbol) [0x003FBE21]\n\t(No symbol) [0x002FDA9D]\n\t(No symbol) [0x00331342]\n\t(No symbol) [0x0033147B]\n\t(No symbol) [0x00368DC2]\n\t(No symbol) [0x0034FDC4]\n\t(No symbol) [0x00366B09]\n\t(No symbol) [0x0034FB76]\n\t(No symbol) [0x003249C1]\n\t(No symbol) [0x00325E5D]\n\tGetHandleVerifier [0x006DA142+2497106]\n\tGetHandleVerifier [0x007085D3+2686691]\n\tGetHandleVerifier [0x0070BB9C+2700460]\n\tGetHandleVerifier [0x00513B10+635936]\n\t(No symbol) [0x00404A1F]\n\t(No symbol) [0x0040A418]\n\t(No symbol) [0x0040A505]\n\t(No symbol) [0x0041508B]\n\tBaseThreadInitThunk [0x76D300F9+25]\n\tRtlGetAppContainerNamedObjectPath [0x77DB7BBE+286]\n\tRtlGetAppContainerNamedObjectPath [0x77DB7B8E+238]\n"
     ]
    }
   ],
   "source": [
    "from selenium import webdriver as opcoesSelenium\n",
    "from selenium.webdriver.common.keys import Keys\n",
    "from selenium.webdriver.common.by import By\n",
    "import pyautogui as tempoEspera \n",
    "\n",
    "from openpyxl import load_workbook\n",
    "import os\n",
    "\n",
    "#caminho do Arquivo no diretório\n",
    "nome_arquivo_tabela = \"C:\\\\Users\\pedro\\Documents\\Curso RPA\\Dados\\Dados_Tabela.xlsx\"\n",
    "planilhaDadosTabela = load_workbook(nome_arquivo_tabela)\n",
    "\n",
    "sheet_dados = planilhaDadosTabela['Dados']\n",
    "\n",
    "\n",
    "#Abre o navegador Google Chrome\n",
    "navegador = opcoesSelenium.Chrome()\n",
    "navegador.get(\"https://rpachallengeocr.azurewebsites.net/\")\n",
    "\n",
    "linha = 1\n",
    "\n",
    "i = 1\n",
    "\n",
    "while i < 4:\n",
    "    \n",
    "    #Copia XPATH da tabela \n",
    "    elementoTabela = navegador.find_element(By.XPATH, '//*[@id=\"tableSandbox\"]')\n",
    "\n",
    "    linhas = elementoTabela.find_elements(By.TAG_NAME, \"tr\")\n",
    "    colunas = elementoTabela.find_elements(By.TAG_NAME, \"td\")\n",
    "\n",
    "\n",
    "\n",
    "    for linhaAtual in linhas:\n",
    "\n",
    "        print(linhaAtual.text)\n",
    "        linha = linha + 1\n",
    "        \n",
    "        #pegamos a ultima linha +1\n",
    "        linha = len(sheet_dados['A']) +1\n",
    "        \n",
    "        #Demos o nome da coluna + o numero da linha\n",
    "        colunaA = \"A\" + str(linha) #A1\n",
    "        colunaB = \"B\" + str(linha) #B1\n",
    "        colunaC = \"C\" + str(linha) #C1\n",
    "        \n",
    "        #pegamos o texto da linha\n",
    "        texto = linhaAtual.text\n",
    "        texto2 = texto.split(\" \")\n",
    "        \n",
    "        #imprimimos os dados da tabela no excel\n",
    "        sheet_dados[colunaA] = texto2[0]\n",
    "        sheet_dados[colunaB] = texto2[1]\n",
    "        sheet_dados[colunaC] = texto2[2]\n",
    "        \n",
    "    i += 1\n",
    "    #aguardando 2 sengundos para o computador ou site processar as informaçoes\n",
    "    tempoEspera.sleep(2)\n",
    "    navegador.find_element(By.XPATH, '//*[@id=\"tableSandbox_next\"]').click()\n",
    "    tempoEspera.sleep(2)\n",
    "\n",
    "else:\n",
    "    \n",
    "    print(\"Pronto!\")\n",
    "    \n",
    "planilhaDadosTabela.save(filename=nome_arquivo_tabela)    \n",
    "\n",
    "\n",
    "os.startfile(nome_arquivo_tabela)"
   ]
  },
  {
   "cell_type": "code",
   "execution_count": null,
   "id": "817a9ea8",
   "metadata": {},
   "outputs": [],
   "source": []
  }
 ],
 "metadata": {
  "kernelspec": {
   "display_name": "Python 3 (ipykernel)",
   "language": "python",
   "name": "python3"
  },
  "language_info": {
   "codemirror_mode": {
    "name": "ipython",
    "version": 3
   },
   "file_extension": ".py",
   "mimetype": "text/x-python",
   "name": "python",
   "nbconvert_exporter": "python",
   "pygments_lexer": "ipython3",
   "version": "3.9.13"
  }
 },
 "nbformat": 4,
 "nbformat_minor": 5
}
